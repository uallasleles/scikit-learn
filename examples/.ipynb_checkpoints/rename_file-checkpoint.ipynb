{
 "cells": [
  {
   "cell_type": "code",
   "execution_count": 46,
   "metadata": {},
   "outputs": [
    {
     "name": "stdout",
     "output_type": "stream",
     "text": [
      "Cap.01 - Introdução\n",
      "M-03.01 - Introdução\n",
      "\n",
      "Cap.02 - Fundamentos da Linguagem R\n",
      "M-03.02 - Fundamentos da Linguagem R\n",
      "\n",
      "Cap.03 - Linguagem R - Fatores, Estruturas de Controle e Funções\n",
      "M-03.03 - Linguagem R - Fatores, Estruturas de Controle e Funções\n",
      "\n",
      "Cap.04 - Linguagem R - Gráficos\n",
      "M-03.04 - Linguagem R - Gráficos\n",
      "\n",
      "Cap.05 - Manipulação de Arquivos TXT, CSV e Planilhas Excel em R\n",
      "M-03.05 - Manipulação de Arquivos TXT, CSV e Planilhas Excel em R\n",
      "\n",
      "Cap.06 - Trabalhando com Bancos de Dados Relacionais e NoSQL em R\n",
      "M-03.06 - Trabalhando com Bancos de Dados Relacionais e NoSQL em R\n",
      "\n",
      "Cap.07 - Manipulação de Dados com R\n",
      "M-03.07 - Manipulação de Dados com R\n",
      "\n",
      "Cap.08 - Introdução à Análise Estatística de Dados - Parte 1\n",
      "M-03.08 - Introdução à Análise Estatística de Dados - Parte 1\n",
      "\n",
      "Cap.09 - Introdução à Análise Estatística de Dados - Parte 2\n",
      "M-03.09 - Introdução à Análise Estatística de Dados - Parte 2\n",
      "\n",
      "Cap.10 - Introdução à Análise Estatística de Dados - Parte 3\n",
      "M-03.10 - Introdução à Análise Estatística de Dados - Parte 3\n",
      "\n",
      "Cap.11 - Machine Learning em Linguagem R\n",
      "M-03.11 - Machine Learning em Linguagem R\n",
      "\n",
      "Cap.12 - Microsoft Azure Machine Learning\n",
      "M-03.12 - Microsoft Azure Machine Learning\n",
      "\n",
      "Cap.13 - Data Munging no Azure Machine Learning\n",
      "M-03.13 - Data Munging no Azure Machine Learning\n",
      "\n",
      "Cap.14 - Regressão com Linguagem R e Azure Machine Learning\n",
      "M-03.14 - Regressão com Linguagem R e Azure Machine Learning\n",
      "\n",
      "Cap.15 - Classificação com Linguagem R e Azure Machine Learning\n",
      "M-03.15 - Classificação com Linguagem R e Azure Machine Learning\n",
      "\n",
      "Cap.16 - Publicação Online do Modelo Preditivo.pdf\n",
      "M-03.16 - Publicação Online do Modelo Preditivo.pdf\n",
      "\n",
      "Cap.17 - Análise de Sentimentos em Redes Sociais\n",
      "M-03.17 - Análise de Sentimentos em Redes Sociais\n",
      "\n",
      "Cap.18 - Mini-Projeto 4 - Análise de Risco de Crédito\n",
      "M-03.18 - Mini-Projeto 4 - Análise de Risco de Crédito\n",
      "\n",
      "Cap.19 - Mapeando a Ocorrência do Vírus Zika em um Gráfico Interativo\n",
      "M-03.19 - Mapeando a Ocorrência do Vírus Zika em um Gráfico Interativo\n",
      "\n",
      "Cap.20 - Projetos com Feedback\n",
      "M-03.20 - Projetos com Feedback\n",
      "\n",
      "Cap.21 - Bônus\n",
      "M-03.21 - Bônus\n",
      "\n",
      "Cheat Sheets\n",
      "Cheat Sheets\n",
      "\n",
      "Resumo.txt\n",
      "Resumo.txt\n",
      "\n"
     ]
    }
   ],
   "source": [
    "import os\n",
    "\n",
    "DIR = r'C:\\Users\\ualla\\Google Drive\\Biblioteca Virtual\\Formação Cientísta de Dados\\C-03 - Big Data Analytics com R e Microsoft Azure Machine Learning'\n",
    "DIR.replace('\\\\', '/')\n",
    "\n",
    "# exemplo alterado de  EX_10.5.py para 10_5.py\n",
    "for nome in os.listdir(DIR):\n",
    "    # alterar conforme sua necessidade de geração de nomes e layout de arquivos    \n",
    "    novo_nome = str(nome).replace('Cap.', 'M-03.')\n",
    "\n",
    "    # DESCOMENTAR PARA PRODUÇÃO\n",
    "    # os.rename(DIR+\"\\\\\"+nome, DIR+\"\\\\\"+novo_nome)\n",
    "    print(nome + \"\\n\" + novo_nome + \"\\n\")"
   ]
  },
  {
   "cell_type": "code",
   "execution_count": 13,
   "metadata": {},
   "outputs": [
    {
     "name": "stdout",
     "output_type": "stream",
     "text": [
      "Help on method_descriptor:\n",
      "\n",
      "replace(self, old, new, count=-1, /)\n",
      "    Return a copy with all occurrences of substring old replaced by new.\n",
      "    \n",
      "      count\n",
      "        Maximum number of occurrences to replace.\n",
      "        -1 (the default value) means replace all occurrences.\n",
      "    \n",
      "    If the optional argument count is given, only the first count occurrences are\n",
      "    replaced.\n",
      "\n"
     ]
    }
   ],
   "source": [
    "help(str.replace)"
   ]
  },
  {
   "cell_type": "code",
   "execution_count": 29,
   "metadata": {},
   "outputs": [
    {
     "name": "stdout",
     "output_type": "stream",
     "text": [
      "C:\\Users\\ualla\\Google Drive\\Biblioteca Virtual\\Formação Cientísta de Dados\\C-03 - Big Data Analytics com R e Microsoft Azure Machine Learning\n"
     ]
    }
   ],
   "source": [
    "DIR = r'C:\\Users\\ualla\\Google Drive\\Biblioteca Virtual\\Formação Cientísta de Dados\\C-03 - Big Data Analytics com R e Microsoft Azure Machine Learning'\n",
    "print(DIR.replace('\\\\', '/'))"
   ]
  }
 ],
 "metadata": {
  "kernelspec": {
   "display_name": "Python 3",
   "language": "python",
   "name": "python3"
  },
  "language_info": {
   "codemirror_mode": {
    "name": "ipython",
    "version": 3
   },
   "file_extension": ".py",
   "mimetype": "text/x-python",
   "name": "python",
   "nbconvert_exporter": "python",
   "pygments_lexer": "ipython3",
   "version": "3.7.7"
  }
 },
 "nbformat": 4,
 "nbformat_minor": 4
}
